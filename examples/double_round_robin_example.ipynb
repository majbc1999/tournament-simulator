{
 "cells": [
  {
   "cell_type": "code",
   "execution_count": 1,
   "metadata": {},
   "outputs": [],
   "source": [
    "from tournament_simulator.round_robin.double_round_robin_tournament import DoubleRoundRobinTournament\n",
    "from tournament_simulator.dataclasses.player import Player, Title"
   ]
  },
  {
   "cell_type": "code",
   "execution_count": 2,
   "metadata": {},
   "outputs": [],
   "source": [
    "tourney = DoubleRoundRobinTournament(\n",
    "    name=\"Norway Chess 2024\",\n",
    "    location=\"Stavanger, Norway\",\n",
    "    players=[\n",
    "        Player(\"Magnus\", \"Carlsen\", \"NOR\", Title.GM, 2830),\n",
    "        Player(\"Fabiano\", \"Caruana\", \"USA\", Title.GM, 2805),\n",
    "        Player(\"Ding\", \"Liren\", \"CHN\", Title.GM, 2762),\n",
    "        Player(\"Alireza\", \"Firouzja\", \"FRA\", Title.GM, 2737),\n",
    "        Player(\"Praggnanandhaa\", \"Rameshbabu\", \"IND\", Title.GM, 2747),\n",
    "        Player(\"Hikaru\", \"Nakamura\", \"USA\", Title.GM, 2794)\n",
    "    ],\n",
    "    tiebreak=\"buchholz\",\n",
    ")"
   ]
  },
  {
   "cell_type": "code",
   "execution_count": 3,
   "metadata": {},
   "outputs": [],
   "source": [
    "tourney.generate_rounds()\n",
    "tourney.simulate_tournament()\n"
   ]
  },
  {
   "cell_type": "code",
   "execution_count": 4,
   "metadata": {},
   "outputs": [
    {
     "data": {
      "text/html": [
       "<div>\n",
       "<style scoped>\n",
       "    .dataframe tbody tr th:only-of-type {\n",
       "        vertical-align: middle;\n",
       "    }\n",
       "\n",
       "    .dataframe tbody tr th {\n",
       "        vertical-align: top;\n",
       "    }\n",
       "\n",
       "    .dataframe thead th {\n",
       "        text-align: right;\n",
       "    }\n",
       "</style>\n",
       "<table border=\"1\" class=\"dataframe\">\n",
       "  <thead>\n",
       "    <tr style=\"text-align: right;\">\n",
       "      <th></th>\n",
       "      <th>Points</th>\n",
       "      <th>Wins</th>\n",
       "      <th>Draws</th>\n",
       "      <th>Losses</th>\n",
       "      <th>Tiebreak</th>\n",
       "    </tr>\n",
       "  </thead>\n",
       "  <tbody>\n",
       "    <tr>\n",
       "      <th>GM Praggnanandhaa Rameshbabu (2747)</th>\n",
       "      <td>7.0</td>\n",
       "      <td>5</td>\n",
       "      <td>4</td>\n",
       "      <td>3</td>\n",
       "      <td>70.0</td>\n",
       "    </tr>\n",
       "    <tr>\n",
       "      <th>GM Fabiano Caruana (2805)</th>\n",
       "      <td>7.0</td>\n",
       "      <td>3</td>\n",
       "      <td>8</td>\n",
       "      <td>1</td>\n",
       "      <td>68.0</td>\n",
       "    </tr>\n",
       "    <tr>\n",
       "      <th>GM Magnus Carlsen (2830)</th>\n",
       "      <td>6.0</td>\n",
       "      <td>2</td>\n",
       "      <td>8</td>\n",
       "      <td>2</td>\n",
       "      <td>74.0</td>\n",
       "    </tr>\n",
       "    <tr>\n",
       "      <th>GM Ding Liren (2762)</th>\n",
       "      <td>6.0</td>\n",
       "      <td>2</td>\n",
       "      <td>8</td>\n",
       "      <td>2</td>\n",
       "      <td>70.0</td>\n",
       "    </tr>\n",
       "    <tr>\n",
       "      <th>GM Hikaru Nakamura (2794)</th>\n",
       "      <td>5.0</td>\n",
       "      <td>1</td>\n",
       "      <td>8</td>\n",
       "      <td>3</td>\n",
       "      <td>76.0</td>\n",
       "    </tr>\n",
       "    <tr>\n",
       "      <th>GM Alireza Firouzja (2737)</th>\n",
       "      <td>5.0</td>\n",
       "      <td>3</td>\n",
       "      <td>4</td>\n",
       "      <td>5</td>\n",
       "      <td>74.0</td>\n",
       "    </tr>\n",
       "  </tbody>\n",
       "</table>\n",
       "</div>"
      ],
      "text/plain": [
       "                                     Points  Wins  Draws  Losses  Tiebreak\n",
       "GM Praggnanandhaa Rameshbabu (2747)     7.0     5      4       3      70.0\n",
       "GM Fabiano Caruana (2805)               7.0     3      8       1      68.0\n",
       "GM Magnus Carlsen (2830)                6.0     2      8       2      74.0\n",
       "GM Ding Liren (2762)                    6.0     2      8       2      70.0\n",
       "GM Hikaru Nakamura (2794)               5.0     1      8       3      76.0\n",
       "GM Alireza Firouzja (2737)              5.0     3      4       5      74.0"
      ]
     },
     "execution_count": 4,
     "metadata": {},
     "output_type": "execute_result"
    }
   ],
   "source": [
    "tourney.display_leaderboard()"
   ]
  }
 ],
 "metadata": {
  "kernelspec": {
   "display_name": "chess_simulator",
   "language": "python",
   "name": "python3"
  },
  "language_info": {
   "codemirror_mode": {
    "name": "ipython",
    "version": 3
   },
   "file_extension": ".py",
   "mimetype": "text/x-python",
   "name": "python",
   "nbconvert_exporter": "python",
   "pygments_lexer": "ipython3",
   "version": "3.11.9"
  }
 },
 "nbformat": 4,
 "nbformat_minor": 2
}
